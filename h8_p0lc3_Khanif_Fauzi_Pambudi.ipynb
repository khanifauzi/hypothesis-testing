{
  "nbformat": 4,
  "nbformat_minor": 0,
  "metadata": {
    "colab": {
      "name": "h8_p0lc3_Khanif_Fauzi_Pambudi.ipynb",
      "provenance": []
    },
    "kernelspec": {
      "name": "python3",
      "display_name": "Python 3"
    },
    "language_info": {
      "name": "python"
    }
  },
  "cells": [
    {
      "cell_type": "code",
      "metadata": {
        "id": "ERRqzcLNhdqA"
      },
      "source": [
        ""
      ],
      "execution_count": null,
      "outputs": []
    },
    {
      "cell_type": "markdown",
      "metadata": {
        "id": "7830Z8KxhfHV"
      },
      "source": [
        "# **KHANIF FAUZI PAMBUDI (LIVE CODE 3)**"
      ]
    },
    {
      "cell_type": "markdown",
      "metadata": {
        "id": "JvBDt9ufhkjb"
      },
      "source": [
        "# **PROBLEMS**"
      ]
    },
    {
      "cell_type": "markdown",
      "metadata": {
        "id": "b4cX3AIAh2Xf"
      },
      "source": [
        "Kamu adalah seorang data scientist di salah satu perusahaan e-commerce. Saat ini, kamu terlibat dalam proyek bersama dengan tim produk dan tim UI/UX untuk merubah tampilan landing page. Menggunakan dataset dari https://raw.githubusercontent.com/fahmimnalfrzki/Dataset/main/purchase_data.txt?token=AEZDEHRU5YLQEXGDDLCL6CLA2KZTI, menggunakan konsep central of tendency, apakah data cenderung berpusat pada purchased=0 atau purchased=1? dan buatlah analisa menggunakan konsep hypothesis testing dan A/B testing (Informasikan H0 dan H1 pada bagian Mathematical Calculation and Analysis)."
      ]
    },
    {
      "cell_type": "markdown",
      "metadata": {
        "id": "un63Ctj3kAyi"
      },
      "source": [
        "# **IMPORT LIBRARY**"
      ]
    },
    {
      "cell_type": "markdown",
      "metadata": {
        "id": "bqZiCSgCkEjs"
      },
      "source": [
        "Melakukan pemanggilan library yang digunakan untuk proses perhitungan"
      ]
    },
    {
      "cell_type": "code",
      "metadata": {
        "id": "eLp1dNtJkKu8"
      },
      "source": [
        "import numpy as np\n",
        "import pandas as pd\n",
        "import scipy"
      ],
      "execution_count": 111,
      "outputs": []
    },
    {
      "cell_type": "markdown",
      "metadata": {
        "id": "97xVGGgYjnWc"
      },
      "source": [
        "# **DATA LOADING**"
      ]
    },
    {
      "cell_type": "markdown",
      "metadata": {
        "id": "MxO1VR9Jj20r"
      },
      "source": [
        "Melakukan load data pada dataset yang diberikan untuk mengetahui strukutur pada data tersebut"
      ]
    },
    {
      "cell_type": "code",
      "metadata": {
        "colab": {
          "base_uri": "https://localhost:8080/",
          "height": 419
        },
        "id": "rJW-_VvLhwOF",
        "outputId": "9f792ed5-ae10-4ce9-8d86-2c55790d8ee5"
      },
      "source": [
        "df = pd.read_csv('/content/livecode3.csv')\n",
        "df"
      ],
      "execution_count": 112,
      "outputs": [
        {
          "output_type": "execute_result",
          "data": {
            "text/html": [
              "<div>\n",
              "<style scoped>\n",
              "    .dataframe tbody tr th:only-of-type {\n",
              "        vertical-align: middle;\n",
              "    }\n",
              "\n",
              "    .dataframe tbody tr th {\n",
              "        vertical-align: top;\n",
              "    }\n",
              "\n",
              "    .dataframe thead th {\n",
              "        text-align: right;\n",
              "    }\n",
              "</style>\n",
              "<table border=\"1\" class=\"dataframe\">\n",
              "  <thead>\n",
              "    <tr style=\"text-align: right;\">\n",
              "      <th></th>\n",
              "      <th>user_id</th>\n",
              "      <th>timestamp</th>\n",
              "      <th>group</th>\n",
              "      <th>landing_page</th>\n",
              "      <th>purchased</th>\n",
              "    </tr>\n",
              "  </thead>\n",
              "  <tbody>\n",
              "    <tr>\n",
              "      <th>0</th>\n",
              "      <td>851104</td>\n",
              "      <td>11:48.6</td>\n",
              "      <td>control</td>\n",
              "      <td>old_page</td>\n",
              "      <td>0.0</td>\n",
              "    </tr>\n",
              "    <tr>\n",
              "      <th>1</th>\n",
              "      <td>804228</td>\n",
              "      <td>01:45.2</td>\n",
              "      <td>control</td>\n",
              "      <td>old_page</td>\n",
              "      <td>0.0</td>\n",
              "    </tr>\n",
              "    <tr>\n",
              "      <th>2</th>\n",
              "      <td>661590</td>\n",
              "      <td>55:06.2</td>\n",
              "      <td>treatment</td>\n",
              "      <td>new_page</td>\n",
              "      <td>0.0</td>\n",
              "    </tr>\n",
              "    <tr>\n",
              "      <th>3</th>\n",
              "      <td>853541</td>\n",
              "      <td>28:03.1</td>\n",
              "      <td>treatment</td>\n",
              "      <td>new_page</td>\n",
              "      <td>0.0</td>\n",
              "    </tr>\n",
              "    <tr>\n",
              "      <th>4</th>\n",
              "      <td>864975</td>\n",
              "      <td>52:26.2</td>\n",
              "      <td>control</td>\n",
              "      <td>old_page</td>\n",
              "      <td>1.0</td>\n",
              "    </tr>\n",
              "    <tr>\n",
              "      <th>...</th>\n",
              "      <td>...</td>\n",
              "      <td>...</td>\n",
              "      <td>...</td>\n",
              "      <td>...</td>\n",
              "      <td>...</td>\n",
              "    </tr>\n",
              "    <tr>\n",
              "      <th>174468</th>\n",
              "      <td>783174</td>\n",
              "      <td>42:53.1</td>\n",
              "      <td>control</td>\n",
              "      <td>old_page</td>\n",
              "      <td>0.0</td>\n",
              "    </tr>\n",
              "    <tr>\n",
              "      <th>174469</th>\n",
              "      <td>934271</td>\n",
              "      <td>52:37.5</td>\n",
              "      <td>control</td>\n",
              "      <td>old_page</td>\n",
              "      <td>0.0</td>\n",
              "    </tr>\n",
              "    <tr>\n",
              "      <th>174470</th>\n",
              "      <td>670542</td>\n",
              "      <td>12:09.8</td>\n",
              "      <td>treatment</td>\n",
              "      <td>new_page</td>\n",
              "      <td>0.0</td>\n",
              "    </tr>\n",
              "    <tr>\n",
              "      <th>174471</th>\n",
              "      <td>877812</td>\n",
              "      <td>13:17.9</td>\n",
              "      <td>treatment</td>\n",
              "      <td>new_page</td>\n",
              "      <td>1.0</td>\n",
              "    </tr>\n",
              "    <tr>\n",
              "      <th>174472</th>\n",
              "      <td>6756</td>\n",
              "      <td>NaN</td>\n",
              "      <td>NaN</td>\n",
              "      <td>NaN</td>\n",
              "      <td>NaN</td>\n",
              "    </tr>\n",
              "  </tbody>\n",
              "</table>\n",
              "<p>174473 rows × 5 columns</p>\n",
              "</div>"
            ],
            "text/plain": [
              "        user_id timestamp      group landing_page  purchased\n",
              "0        851104   11:48.6    control     old_page        0.0\n",
              "1        804228   01:45.2    control     old_page        0.0\n",
              "2        661590   55:06.2  treatment     new_page        0.0\n",
              "3        853541   28:03.1  treatment     new_page        0.0\n",
              "4        864975   52:26.2    control     old_page        1.0\n",
              "...         ...       ...        ...          ...        ...\n",
              "174468   783174   42:53.1    control     old_page        0.0\n",
              "174469   934271   52:37.5    control     old_page        0.0\n",
              "174470   670542   12:09.8  treatment     new_page        0.0\n",
              "174471   877812   13:17.9  treatment     new_page        1.0\n",
              "174472     6756       NaN        NaN          NaN        NaN\n",
              "\n",
              "[174473 rows x 5 columns]"
            ]
          },
          "metadata": {
            "tags": []
          },
          "execution_count": 112
        }
      ]
    },
    {
      "cell_type": "markdown",
      "metadata": {
        "id": "j2LLpjMvlz2m"
      },
      "source": [
        "Keterangan Dataset:\n",
        "\n",
        "user_id = id pelanggan;\n",
        "timestamp = Waktu ketika pelanggan mengakses laman web;\n",
        "group = grup kontrol dan treatment;\n",
        "landing_page = landing page yang diakses oleh pelanggan (laman lama atau laman baru);\n",
        "purchased = 0 : tidak ada pembelian, and 1: ada pembelian;"
      ]
    },
    {
      "cell_type": "markdown",
      "metadata": {
        "id": "EZIwFLuTlP2V"
      },
      "source": [
        "# **DATA EXPLORATION**"
      ]
    },
    {
      "cell_type": "code",
      "metadata": {
        "colab": {
          "base_uri": "https://localhost:8080/"
        },
        "id": "9t_Ki3RFlJsN",
        "outputId": "011f313c-498f-4ec9-c081-3626b3ca727d"
      },
      "source": [
        "len(df) #memeriksa jumlah row keselurhan pada dataset"
      ],
      "execution_count": 113,
      "outputs": [
        {
          "output_type": "execute_result",
          "data": {
            "text/plain": [
              "174473"
            ]
          },
          "metadata": {
            "tags": []
          },
          "execution_count": 113
        }
      ]
    },
    {
      "cell_type": "code",
      "metadata": {
        "colab": {
          "base_uri": "https://localhost:8080/"
        },
        "id": "5zRTSI88lbls",
        "outputId": "3acefdd6-080a-4c08-dccf-3c0bfc87e8b9"
      },
      "source": [
        "df.shape #melihat jumlah row dan jumlah kolom pada dataset"
      ],
      "execution_count": 114,
      "outputs": [
        {
          "output_type": "execute_result",
          "data": {
            "text/plain": [
              "(174473, 5)"
            ]
          },
          "metadata": {
            "tags": []
          },
          "execution_count": 114
        }
      ]
    },
    {
      "cell_type": "code",
      "metadata": {
        "colab": {
          "base_uri": "https://localhost:8080/",
          "height": 204
        },
        "id": "AzQVYJ48l6u8",
        "outputId": "38e5cdce-8baf-46ed-df87-a0f5015728eb"
      },
      "source": [
        "df.head() #melihat 5 data teratas"
      ],
      "execution_count": 115,
      "outputs": [
        {
          "output_type": "execute_result",
          "data": {
            "text/html": [
              "<div>\n",
              "<style scoped>\n",
              "    .dataframe tbody tr th:only-of-type {\n",
              "        vertical-align: middle;\n",
              "    }\n",
              "\n",
              "    .dataframe tbody tr th {\n",
              "        vertical-align: top;\n",
              "    }\n",
              "\n",
              "    .dataframe thead th {\n",
              "        text-align: right;\n",
              "    }\n",
              "</style>\n",
              "<table border=\"1\" class=\"dataframe\">\n",
              "  <thead>\n",
              "    <tr style=\"text-align: right;\">\n",
              "      <th></th>\n",
              "      <th>user_id</th>\n",
              "      <th>timestamp</th>\n",
              "      <th>group</th>\n",
              "      <th>landing_page</th>\n",
              "      <th>purchased</th>\n",
              "    </tr>\n",
              "  </thead>\n",
              "  <tbody>\n",
              "    <tr>\n",
              "      <th>0</th>\n",
              "      <td>851104</td>\n",
              "      <td>11:48.6</td>\n",
              "      <td>control</td>\n",
              "      <td>old_page</td>\n",
              "      <td>0.0</td>\n",
              "    </tr>\n",
              "    <tr>\n",
              "      <th>1</th>\n",
              "      <td>804228</td>\n",
              "      <td>01:45.2</td>\n",
              "      <td>control</td>\n",
              "      <td>old_page</td>\n",
              "      <td>0.0</td>\n",
              "    </tr>\n",
              "    <tr>\n",
              "      <th>2</th>\n",
              "      <td>661590</td>\n",
              "      <td>55:06.2</td>\n",
              "      <td>treatment</td>\n",
              "      <td>new_page</td>\n",
              "      <td>0.0</td>\n",
              "    </tr>\n",
              "    <tr>\n",
              "      <th>3</th>\n",
              "      <td>853541</td>\n",
              "      <td>28:03.1</td>\n",
              "      <td>treatment</td>\n",
              "      <td>new_page</td>\n",
              "      <td>0.0</td>\n",
              "    </tr>\n",
              "    <tr>\n",
              "      <th>4</th>\n",
              "      <td>864975</td>\n",
              "      <td>52:26.2</td>\n",
              "      <td>control</td>\n",
              "      <td>old_page</td>\n",
              "      <td>1.0</td>\n",
              "    </tr>\n",
              "  </tbody>\n",
              "</table>\n",
              "</div>"
            ],
            "text/plain": [
              "   user_id timestamp      group landing_page  purchased\n",
              "0   851104   11:48.6    control     old_page        0.0\n",
              "1   804228   01:45.2    control     old_page        0.0\n",
              "2   661590   55:06.2  treatment     new_page        0.0\n",
              "3   853541   28:03.1  treatment     new_page        0.0\n",
              "4   864975   52:26.2    control     old_page        1.0"
            ]
          },
          "metadata": {
            "tags": []
          },
          "execution_count": 115
        }
      ]
    },
    {
      "cell_type": "code",
      "metadata": {
        "colab": {
          "base_uri": "https://localhost:8080/",
          "height": 204
        },
        "id": "ijofYgsWmC7F",
        "outputId": "0bd35ede-3f7c-4a2a-f7ae-492c9ccc70ca"
      },
      "source": [
        "df.tail() #melihat 5 data terbawah"
      ],
      "execution_count": 117,
      "outputs": [
        {
          "output_type": "execute_result",
          "data": {
            "text/html": [
              "<div>\n",
              "<style scoped>\n",
              "    .dataframe tbody tr th:only-of-type {\n",
              "        vertical-align: middle;\n",
              "    }\n",
              "\n",
              "    .dataframe tbody tr th {\n",
              "        vertical-align: top;\n",
              "    }\n",
              "\n",
              "    .dataframe thead th {\n",
              "        text-align: right;\n",
              "    }\n",
              "</style>\n",
              "<table border=\"1\" class=\"dataframe\">\n",
              "  <thead>\n",
              "    <tr style=\"text-align: right;\">\n",
              "      <th></th>\n",
              "      <th>user_id</th>\n",
              "      <th>timestamp</th>\n",
              "      <th>group</th>\n",
              "      <th>landing_page</th>\n",
              "      <th>purchased</th>\n",
              "    </tr>\n",
              "  </thead>\n",
              "  <tbody>\n",
              "    <tr>\n",
              "      <th>174468</th>\n",
              "      <td>783174</td>\n",
              "      <td>42:53.1</td>\n",
              "      <td>control</td>\n",
              "      <td>old_page</td>\n",
              "      <td>0.0</td>\n",
              "    </tr>\n",
              "    <tr>\n",
              "      <th>174469</th>\n",
              "      <td>934271</td>\n",
              "      <td>52:37.5</td>\n",
              "      <td>control</td>\n",
              "      <td>old_page</td>\n",
              "      <td>0.0</td>\n",
              "    </tr>\n",
              "    <tr>\n",
              "      <th>174470</th>\n",
              "      <td>670542</td>\n",
              "      <td>12:09.8</td>\n",
              "      <td>treatment</td>\n",
              "      <td>new_page</td>\n",
              "      <td>0.0</td>\n",
              "    </tr>\n",
              "    <tr>\n",
              "      <th>174471</th>\n",
              "      <td>877812</td>\n",
              "      <td>13:17.9</td>\n",
              "      <td>treatment</td>\n",
              "      <td>new_page</td>\n",
              "      <td>1.0</td>\n",
              "    </tr>\n",
              "    <tr>\n",
              "      <th>174472</th>\n",
              "      <td>6756</td>\n",
              "      <td>NaN</td>\n",
              "      <td>NaN</td>\n",
              "      <td>NaN</td>\n",
              "      <td>NaN</td>\n",
              "    </tr>\n",
              "  </tbody>\n",
              "</table>\n",
              "</div>"
            ],
            "text/plain": [
              "        user_id timestamp      group landing_page  purchased\n",
              "174468   783174   42:53.1    control     old_page        0.0\n",
              "174469   934271   52:37.5    control     old_page        0.0\n",
              "174470   670542   12:09.8  treatment     new_page        0.0\n",
              "174471   877812   13:17.9  treatment     new_page        1.0\n",
              "174472     6756       NaN        NaN          NaN        NaN"
            ]
          },
          "metadata": {
            "tags": []
          },
          "execution_count": 117
        }
      ]
    },
    {
      "cell_type": "code",
      "metadata": {
        "colab": {
          "base_uri": "https://localhost:8080/"
        },
        "id": "o9pQdFPAoGNe",
        "outputId": "716b998e-0314-4d4f-82b6-06d0e4a3c7a0"
      },
      "source": [
        "df.info() #melihat data info untuk kolom dan tipe data nya"
      ],
      "execution_count": 118,
      "outputs": [
        {
          "output_type": "stream",
          "text": [
            "<class 'pandas.core.frame.DataFrame'>\n",
            "RangeIndex: 174473 entries, 0 to 174472\n",
            "Data columns (total 5 columns):\n",
            " #   Column        Non-Null Count   Dtype  \n",
            "---  ------        --------------   -----  \n",
            " 0   user_id       174473 non-null  int64  \n",
            " 1   timestamp     174472 non-null  object \n",
            " 2   group         174472 non-null  object \n",
            " 3   landing_page  174472 non-null  object \n",
            " 4   purchased     174472 non-null  float64\n",
            "dtypes: float64(1), int64(1), object(3)\n",
            "memory usage: 6.7+ MB\n"
          ],
          "name": "stdout"
        }
      ]
    },
    {
      "cell_type": "code",
      "metadata": {
        "colab": {
          "base_uri": "https://localhost:8080/",
          "height": 297
        },
        "id": "sV2BpHBloNGR",
        "outputId": "978639c6-f575-45ad-d7dc-f5e123d0d989"
      },
      "source": [
        "df.describe()"
      ],
      "execution_count": 119,
      "outputs": [
        {
          "output_type": "execute_result",
          "data": {
            "text/html": [
              "<div>\n",
              "<style scoped>\n",
              "    .dataframe tbody tr th:only-of-type {\n",
              "        vertical-align: middle;\n",
              "    }\n",
              "\n",
              "    .dataframe tbody tr th {\n",
              "        vertical-align: top;\n",
              "    }\n",
              "\n",
              "    .dataframe thead th {\n",
              "        text-align: right;\n",
              "    }\n",
              "</style>\n",
              "<table border=\"1\" class=\"dataframe\">\n",
              "  <thead>\n",
              "    <tr style=\"text-align: right;\">\n",
              "      <th></th>\n",
              "      <th>user_id</th>\n",
              "      <th>purchased</th>\n",
              "    </tr>\n",
              "  </thead>\n",
              "  <tbody>\n",
              "    <tr>\n",
              "      <th>count</th>\n",
              "      <td>174473.000000</td>\n",
              "      <td>174472.000000</td>\n",
              "    </tr>\n",
              "    <tr>\n",
              "      <th>mean</th>\n",
              "      <td>787720.946708</td>\n",
              "      <td>0.119979</td>\n",
              "    </tr>\n",
              "    <tr>\n",
              "      <th>std</th>\n",
              "      <td>91129.474720</td>\n",
              "      <td>0.324938</td>\n",
              "    </tr>\n",
              "    <tr>\n",
              "      <th>min</th>\n",
              "      <td>6756.000000</td>\n",
              "      <td>0.000000</td>\n",
              "    </tr>\n",
              "    <tr>\n",
              "      <th>25%</th>\n",
              "      <td>708809.000000</td>\n",
              "      <td>0.000000</td>\n",
              "    </tr>\n",
              "    <tr>\n",
              "      <th>50%</th>\n",
              "      <td>787682.000000</td>\n",
              "      <td>0.000000</td>\n",
              "    </tr>\n",
              "    <tr>\n",
              "      <th>75%</th>\n",
              "      <td>866466.000000</td>\n",
              "      <td>0.000000</td>\n",
              "    </tr>\n",
              "    <tr>\n",
              "      <th>max</th>\n",
              "      <td>945997.000000</td>\n",
              "      <td>1.000000</td>\n",
              "    </tr>\n",
              "  </tbody>\n",
              "</table>\n",
              "</div>"
            ],
            "text/plain": [
              "             user_id      purchased\n",
              "count  174473.000000  174472.000000\n",
              "mean   787720.946708       0.119979\n",
              "std     91129.474720       0.324938\n",
              "min      6756.000000       0.000000\n",
              "25%    708809.000000       0.000000\n",
              "50%    787682.000000       0.000000\n",
              "75%    866466.000000       0.000000\n",
              "max    945997.000000       1.000000"
            ]
          },
          "metadata": {
            "tags": []
          },
          "execution_count": 119
        }
      ]
    },
    {
      "cell_type": "markdown",
      "metadata": {
        "id": "jlOu4nE58ToF"
      },
      "source": [
        "# **DATA PROCESSING (MISSING VALUE)**"
      ]
    },
    {
      "cell_type": "code",
      "metadata": {
        "colab": {
          "base_uri": "https://localhost:8080/"
        },
        "id": "N8l8Ks35oWPJ",
        "outputId": "b4f7b3b0-4649-439a-f299-9e47c32ef1fe"
      },
      "source": [
        "df.isna().sum() #mengecek apakah ada missing value atau tidak"
      ],
      "execution_count": 120,
      "outputs": [
        {
          "output_type": "execute_result",
          "data": {
            "text/plain": [
              "user_id         0\n",
              "timestamp       1\n",
              "group           1\n",
              "landing_page    1\n",
              "purchased       1\n",
              "dtype: int64"
            ]
          },
          "metadata": {
            "tags": []
          },
          "execution_count": 120
        }
      ]
    },
    {
      "cell_type": "markdown",
      "metadata": {
        "id": "EThOw0sTpNwH"
      },
      "source": [
        "Dari data di atas terdapat missing value pada kolom timestamp, group, landing_page, dan purchased. Karena misssing value pada kolom tersebut hanya 1 data maka pengisian missing value akan diisi menggunakan nilai modus"
      ]
    },
    {
      "cell_type": "markdown",
      "metadata": {
        "id": "A8IX5r0qojKI"
      },
      "source": [
        "Mencari nilai modus untuk mengisi missing value dengan nilai modus"
      ]
    },
    {
      "cell_type": "code",
      "metadata": {
        "colab": {
          "base_uri": "https://localhost:8080/"
        },
        "id": "UZY6G_q-od9a",
        "outputId": "61a489cd-c6a0-4ef4-c876-713b16e2d074"
      },
      "source": [
        "time = df['timestamp'] #mencari modus dari data timestamp\n",
        "print(time.mode())"
      ],
      "execution_count": 121,
      "outputs": [
        {
          "output_type": "stream",
          "text": [
            "0    21:04.1\n",
            "dtype: object\n"
          ],
          "name": "stdout"
        }
      ]
    },
    {
      "cell_type": "code",
      "metadata": {
        "colab": {
          "base_uri": "https://localhost:8080/"
        },
        "id": "-buKHRZco9f2",
        "outputId": "2dcadbf7-6168-410b-b0c7-fd7dc4de3d6b"
      },
      "source": [
        "grp = df['group'] #mencari modus dari data group\n",
        "print(grp.mode())"
      ],
      "execution_count": 122,
      "outputs": [
        {
          "output_type": "stream",
          "text": [
            "0    treatment\n",
            "dtype: object\n"
          ],
          "name": "stdout"
        }
      ]
    },
    {
      "cell_type": "code",
      "metadata": {
        "colab": {
          "base_uri": "https://localhost:8080/"
        },
        "id": "X11G9uLtpJ3y",
        "outputId": "00b9b1a1-f1fe-4624-f335-f069060e3913"
      },
      "source": [
        "lp = df['landing_page']\n",
        "print(lp.mode())"
      ],
      "execution_count": 123,
      "outputs": [
        {
          "output_type": "stream",
          "text": [
            "0    new_page\n",
            "dtype: object\n"
          ],
          "name": "stdout"
        }
      ]
    },
    {
      "cell_type": "code",
      "metadata": {
        "colab": {
          "base_uri": "https://localhost:8080/"
        },
        "id": "8Dv0cqLPpnDL",
        "outputId": "f32228cd-78d4-4182-cd32-e36365f8ad07"
      },
      "source": [
        "prchs = df['purchased']\n",
        "print(prchs.mode())"
      ],
      "execution_count": 124,
      "outputs": [
        {
          "output_type": "stream",
          "text": [
            "0    0.0\n",
            "dtype: float64\n"
          ],
          "name": "stdout"
        }
      ]
    },
    {
      "cell_type": "markdown",
      "metadata": {
        "id": "GIw4f2M7puNd"
      },
      "source": [
        "setelah mengetahui masing-masing nilai modus pada setiap kolom langkah selanjutnya mengisi kolom dengan nilai modus yang sudah didapatkan"
      ]
    },
    {
      "cell_type": "code",
      "metadata": {
        "id": "_DJM6iHDp6VB"
      },
      "source": [
        "df['timestamp'].fillna('21:04.1', inplace = True) #mengisi missing value timestamp dengan nilai modus 21:04.1"
      ],
      "execution_count": null,
      "outputs": []
    },
    {
      "cell_type": "code",
      "metadata": {
        "id": "myoii6dMqX9D"
      },
      "source": [
        "df['group'].fillna('treatment', inplace = True) #mengisi missing value group dengan nilai modus treatment"
      ],
      "execution_count": null,
      "outputs": []
    },
    {
      "cell_type": "code",
      "metadata": {
        "id": "tPFMLoCBqi4K"
      },
      "source": [
        "df['landing_page'].fillna('new_page', inplace = True) #mengisi missing value landing page dengan nilai modus new_page"
      ],
      "execution_count": 87,
      "outputs": []
    },
    {
      "cell_type": "code",
      "metadata": {
        "id": "oZGoVJzdqt9K"
      },
      "source": [
        "df['purchased'].fillna('0.0', inplace = True) #mengisi missing value purchased dengan nilai modus 0.0"
      ],
      "execution_count": 88,
      "outputs": []
    },
    {
      "cell_type": "markdown",
      "metadata": {
        "id": "c7H0tRdXq6yo"
      },
      "source": [
        "setelah missing value diisi kemudian dicek kembali apakah semua data sudah terisi atau belum"
      ]
    },
    {
      "cell_type": "code",
      "metadata": {
        "colab": {
          "base_uri": "https://localhost:8080/"
        },
        "id": "6zlvwcGsq6AK",
        "outputId": "7cf6508b-128f-498f-df1a-4acabc43cda5"
      },
      "source": [
        "df.isna().sum() #mengecek apakah ada missing value atau tidak"
      ],
      "execution_count": 125,
      "outputs": [
        {
          "output_type": "execute_result",
          "data": {
            "text/plain": [
              "user_id         0\n",
              "timestamp       1\n",
              "group           1\n",
              "landing_page    1\n",
              "purchased       1\n",
              "dtype: int64"
            ]
          },
          "metadata": {
            "tags": []
          },
          "execution_count": 125
        }
      ]
    },
    {
      "cell_type": "markdown",
      "metadata": {
        "id": "xN10CnTPrJDY"
      },
      "source": [
        "setelah dicek kembali sudah tidak ada missing value maka dataset sudah dapat diolah"
      ]
    },
    {
      "cell_type": "markdown",
      "metadata": {
        "id": "9XDn9mEi8iDg"
      },
      "source": [
        "# **CENTRAL TENDENCY**"
      ]
    },
    {
      "cell_type": "markdown",
      "metadata": {
        "id": "CJAL1eDkrQJj"
      },
      "source": [
        "# **MENGHITUNG MEAN**"
      ]
    },
    {
      "cell_type": "code",
      "metadata": {
        "colab": {
          "base_uri": "https://localhost:8080/"
        },
        "id": "m_YxIxWTrVHA",
        "outputId": "a2dba6a9-dcb4-495e-d35c-8918096c84ed"
      },
      "source": [
        "user = df[\"user_id\"] #menghitung mead dari kolom user id\n",
        "np.mean(user)"
      ],
      "execution_count": 126,
      "outputs": [
        {
          "output_type": "execute_result",
          "data": {
            "text/plain": [
              "787720.9467080866"
            ]
          },
          "metadata": {
            "tags": []
          },
          "execution_count": 126
        }
      ]
    },
    {
      "cell_type": "markdown",
      "metadata": {
        "id": "rPvl54A-tQer"
      },
      "source": [
        "# **MENGHITUNG MEDIAN**"
      ]
    },
    {
      "cell_type": "code",
      "metadata": {
        "colab": {
          "base_uri": "https://localhost:8080/"
        },
        "id": "n5q0RAXStSni",
        "outputId": "fb302ecb-a3a9-44b6-d04d-52de2e54e2b1"
      },
      "source": [
        "user = df[\"user_id\"] #menghitung mead dari kolom user id\n",
        "np.median(user)"
      ],
      "execution_count": 127,
      "outputs": [
        {
          "output_type": "execute_result",
          "data": {
            "text/plain": [
              "787682.0"
            ]
          },
          "metadata": {
            "tags": []
          },
          "execution_count": 127
        }
      ]
    },
    {
      "cell_type": "markdown",
      "metadata": {
        "id": "H3yBbktqtzaY"
      },
      "source": [
        "# **MENCARI MODUS**"
      ]
    },
    {
      "cell_type": "code",
      "metadata": {
        "colab": {
          "base_uri": "https://localhost:8080/"
        },
        "id": "DeJaZTnFt2d-",
        "outputId": "c4311acd-59a5-419f-ef08-064b4cb6ec38"
      },
      "source": [
        "grp = df[\"group\"] #mencari modus pada data group\n",
        "print(grp.mode())"
      ],
      "execution_count": 128,
      "outputs": [
        {
          "output_type": "stream",
          "text": [
            "0    treatment\n",
            "dtype: object\n"
          ],
          "name": "stdout"
        }
      ]
    },
    {
      "cell_type": "markdown",
      "metadata": {
        "id": "w4t-I0DcuRmA"
      },
      "source": [
        "Terlihat bahwa modus dari data group adalah treatment"
      ]
    },
    {
      "cell_type": "code",
      "metadata": {
        "colab": {
          "base_uri": "https://localhost:8080/"
        },
        "id": "EdFOIHMVuYlZ",
        "outputId": "5a534fc8-c083-42f6-de21-17827b9acb91"
      },
      "source": [
        "lp = df[\"landing_page\"] #mencari modus pada data landing page\n",
        "print(lp.mode())"
      ],
      "execution_count": 129,
      "outputs": [
        {
          "output_type": "stream",
          "text": [
            "0    new_page\n",
            "dtype: object\n"
          ],
          "name": "stdout"
        }
      ]
    },
    {
      "cell_type": "markdown",
      "metadata": {
        "id": "r8XCQB1puuNR"
      },
      "source": [
        "Terlihat bahwa modus dari data landing_page adalah new_page"
      ]
    },
    {
      "cell_type": "code",
      "metadata": {
        "colab": {
          "base_uri": "https://localhost:8080/"
        },
        "id": "L9UWTWKVuzLt",
        "outputId": "3164e14b-bea7-4e70-dbec-1826c7113b89"
      },
      "source": [
        "prchs = df[\"purchased\"] #mencari modus pada data purchased\n",
        "print(prchs.mode())"
      ],
      "execution_count": 130,
      "outputs": [
        {
          "output_type": "stream",
          "text": [
            "0    0.0\n",
            "dtype: float64\n"
          ],
          "name": "stdout"
        }
      ]
    },
    {
      "cell_type": "markdown",
      "metadata": {
        "id": "uI66zNv4vDJX"
      },
      "source": [
        "Terlihat bahwa modus dari data purchased adalah 0"
      ]
    },
    {
      "cell_type": "markdown",
      "metadata": {
        "id": "qnJBiUvawIw3"
      },
      "source": [
        "# **A/B TESTING**"
      ]
    },
    {
      "cell_type": "code",
      "metadata": {
        "colab": {
          "base_uri": "https://localhost:8080/"
        },
        "id": "08c-Wx5RvNEO",
        "outputId": "012e3348-f4bf-4ce7-9fe9-3ff6a4b98570"
      },
      "source": [
        "import numpy as np\n",
        "import pandas as pd\n",
        "import scipy.stats as stats\n",
        "import statsmodels.stats.api as sms\n",
        "import matplotlib as mpl\n",
        "import matplotlib.pyplot as plt\n",
        "import seaborn as sns\n",
        "\n",
        "from math import ceil\n",
        "%matplotlib inline\n",
        "\n",
        "plt.style.use('seaborn-whitegrid')\n",
        "font = {'family' : 'Helvetica',\n",
        "        'weight' : 'bold',\n",
        "        'size'   : 14}\n",
        "\n",
        "mpl.rc('font', **font)\n",
        "effect_size = sms.proportion_effectsize(0.13, 0.15)   \n",
        "\n",
        "required_n = sms.NormalIndPower().solve_power(\n",
        "    effect_size, \n",
        "    power=0.8, \n",
        "    alpha=0.05, \n",
        "    ratio=1\n",
        "    )                                                  \n",
        "\n",
        "required_n = ceil(required_n)                                               \n",
        "\n",
        "print(required_n)"
      ],
      "execution_count": 131,
      "outputs": [
        {
          "output_type": "stream",
          "text": [
            "4720\n"
          ],
          "name": "stdout"
        }
      ]
    },
    {
      "cell_type": "markdown",
      "metadata": {
        "id": "OHo9qkYvADqY"
      },
      "source": [
        "4720 merupakan jumlah masing-masing data yang harus dilakukan untuk melakukan hypothesis testing pada setiap kategori dalam dataset yang ingin dilakukan pengujian hipotesis. Sehingga dari dataset yang ingin dilakukan testing jumlah testingnya masing-masing harus seimbang yaitu 4720 pada setiap kategorinya"
      ]
    },
    {
      "cell_type": "code",
      "metadata": {
        "colab": {
          "base_uri": "https://localhost:8080/"
        },
        "id": "26XJXK7kyJaO",
        "outputId": "6d71d448-0866-4982-bf65-0ce191fc6b1b"
      },
      "source": [
        "session_counts = df['user_id'].value_counts(ascending=False)\n",
        "multi_users = session_counts[session_counts > 1].count()\n",
        "\n",
        "print(f'Terdapat {multi_users} pengguna yang muncul beberapakali dalam dataset')"
      ],
      "execution_count": 132,
      "outputs": [
        {
          "output_type": "stream",
          "text": [
            "Terdapat 1357 pengguna yang muncul beberapakali dalam dataset\n"
          ],
          "name": "stdout"
        }
      ]
    },
    {
      "cell_type": "code",
      "metadata": {
        "colab": {
          "base_uri": "https://localhost:8080/"
        },
        "id": "1murVVvgyd_Q",
        "outputId": "18aee4fa-6c01-439d-e624-60742a178978"
      },
      "source": [
        "users_to_drop = session_counts[session_counts > 1].index\n",
        "\n",
        "df = df[~df['user_id'].isin(users_to_drop)]\n",
        "print(f'Dataset terupdate saat ini memiliki {df.shape[0]} entri')"
      ],
      "execution_count": 133,
      "outputs": [
        {
          "output_type": "stream",
          "text": [
            "Dataset terupdate saat ini memiliki 171759 entri\n"
          ],
          "name": "stdout"
        }
      ]
    },
    {
      "cell_type": "code",
      "metadata": {
        "colab": {
          "base_uri": "https://localhost:8080/",
          "height": 419
        },
        "id": "Jff7V5_7y20O",
        "outputId": "c88f42e9-4475-4205-87a7-91316504de70"
      },
      "source": [
        "control_sample = df[df['group'] == 'control'].sample(n=required_n, random_state=22)\n",
        "treatment_sample = df[df['group'] == 'treatment'].sample(n=required_n, random_state=22)\n",
        "\n",
        "ab_test = pd.concat([control_sample, treatment_sample], axis=0)\n",
        "ab_test.reset_index(drop=True, inplace=True)\n",
        "ab_test"
      ],
      "execution_count": 134,
      "outputs": [
        {
          "output_type": "execute_result",
          "data": {
            "text/html": [
              "<div>\n",
              "<style scoped>\n",
              "    .dataframe tbody tr th:only-of-type {\n",
              "        vertical-align: middle;\n",
              "    }\n",
              "\n",
              "    .dataframe tbody tr th {\n",
              "        vertical-align: top;\n",
              "    }\n",
              "\n",
              "    .dataframe thead th {\n",
              "        text-align: right;\n",
              "    }\n",
              "</style>\n",
              "<table border=\"1\" class=\"dataframe\">\n",
              "  <thead>\n",
              "    <tr style=\"text-align: right;\">\n",
              "      <th></th>\n",
              "      <th>user_id</th>\n",
              "      <th>timestamp</th>\n",
              "      <th>group</th>\n",
              "      <th>landing_page</th>\n",
              "      <th>purchased</th>\n",
              "    </tr>\n",
              "  </thead>\n",
              "  <tbody>\n",
              "    <tr>\n",
              "      <th>0</th>\n",
              "      <td>664266</td>\n",
              "      <td>02:54.9</td>\n",
              "      <td>control</td>\n",
              "      <td>old_page</td>\n",
              "      <td>0.0</td>\n",
              "    </tr>\n",
              "    <tr>\n",
              "      <th>1</th>\n",
              "      <td>913295</td>\n",
              "      <td>28:17.0</td>\n",
              "      <td>control</td>\n",
              "      <td>old_page</td>\n",
              "      <td>0.0</td>\n",
              "    </tr>\n",
              "    <tr>\n",
              "      <th>2</th>\n",
              "      <td>718855</td>\n",
              "      <td>02:17.3</td>\n",
              "      <td>control</td>\n",
              "      <td>old_page</td>\n",
              "      <td>0.0</td>\n",
              "    </tr>\n",
              "    <tr>\n",
              "      <th>3</th>\n",
              "      <td>700940</td>\n",
              "      <td>20:00.9</td>\n",
              "      <td>control</td>\n",
              "      <td>old_page</td>\n",
              "      <td>0.0</td>\n",
              "    </tr>\n",
              "    <tr>\n",
              "      <th>4</th>\n",
              "      <td>923303</td>\n",
              "      <td>38:16.8</td>\n",
              "      <td>control</td>\n",
              "      <td>old_page</td>\n",
              "      <td>0.0</td>\n",
              "    </tr>\n",
              "    <tr>\n",
              "      <th>...</th>\n",
              "      <td>...</td>\n",
              "      <td>...</td>\n",
              "      <td>...</td>\n",
              "      <td>...</td>\n",
              "      <td>...</td>\n",
              "    </tr>\n",
              "    <tr>\n",
              "      <th>9435</th>\n",
              "      <td>726358</td>\n",
              "      <td>54:31.6</td>\n",
              "      <td>treatment</td>\n",
              "      <td>new_page</td>\n",
              "      <td>0.0</td>\n",
              "    </tr>\n",
              "    <tr>\n",
              "      <th>9436</th>\n",
              "      <td>665958</td>\n",
              "      <td>20:18.9</td>\n",
              "      <td>treatment</td>\n",
              "      <td>new_page</td>\n",
              "      <td>1.0</td>\n",
              "    </tr>\n",
              "    <tr>\n",
              "      <th>9437</th>\n",
              "      <td>945707</td>\n",
              "      <td>34:39.7</td>\n",
              "      <td>treatment</td>\n",
              "      <td>new_page</td>\n",
              "      <td>0.0</td>\n",
              "    </tr>\n",
              "    <tr>\n",
              "      <th>9438</th>\n",
              "      <td>777143</td>\n",
              "      <td>30:23.2</td>\n",
              "      <td>treatment</td>\n",
              "      <td>new_page</td>\n",
              "      <td>0.0</td>\n",
              "    </tr>\n",
              "    <tr>\n",
              "      <th>9439</th>\n",
              "      <td>660640</td>\n",
              "      <td>11:46.8</td>\n",
              "      <td>treatment</td>\n",
              "      <td>new_page</td>\n",
              "      <td>0.0</td>\n",
              "    </tr>\n",
              "  </tbody>\n",
              "</table>\n",
              "<p>9440 rows × 5 columns</p>\n",
              "</div>"
            ],
            "text/plain": [
              "      user_id timestamp      group landing_page  purchased\n",
              "0      664266   02:54.9    control     old_page        0.0\n",
              "1      913295   28:17.0    control     old_page        0.0\n",
              "2      718855   02:17.3    control     old_page        0.0\n",
              "3      700940   20:00.9    control     old_page        0.0\n",
              "4      923303   38:16.8    control     old_page        0.0\n",
              "...       ...       ...        ...          ...        ...\n",
              "9435   726358   54:31.6  treatment     new_page        0.0\n",
              "9436   665958   20:18.9  treatment     new_page        1.0\n",
              "9437   945707   34:39.7  treatment     new_page        0.0\n",
              "9438   777143   30:23.2  treatment     new_page        0.0\n",
              "9439   660640   11:46.8  treatment     new_page        0.0\n",
              "\n",
              "[9440 rows x 5 columns]"
            ]
          },
          "metadata": {
            "tags": []
          },
          "execution_count": 134
        }
      ]
    },
    {
      "cell_type": "markdown",
      "metadata": {
        "id": "PDxyceeC8538"
      },
      "source": [
        "Data di atas merupakan sample dataset yang akan dilakukan A/B testing"
      ]
    },
    {
      "cell_type": "code",
      "metadata": {
        "colab": {
          "base_uri": "https://localhost:8080/"
        },
        "id": "XeAZXMsWy9_A",
        "outputId": "66bda34d-bed3-4c98-8f4e-93b0d263bfb3"
      },
      "source": [
        "ab_test.info()"
      ],
      "execution_count": 135,
      "outputs": [
        {
          "output_type": "stream",
          "text": [
            "<class 'pandas.core.frame.DataFrame'>\n",
            "RangeIndex: 9440 entries, 0 to 9439\n",
            "Data columns (total 5 columns):\n",
            " #   Column        Non-Null Count  Dtype  \n",
            "---  ------        --------------  -----  \n",
            " 0   user_id       9440 non-null   int64  \n",
            " 1   timestamp     9440 non-null   object \n",
            " 2   group         9440 non-null   object \n",
            " 3   landing_page  9440 non-null   object \n",
            " 4   purchased     9440 non-null   float64\n",
            "dtypes: float64(1), int64(1), object(3)\n",
            "memory usage: 368.9+ KB\n"
          ],
          "name": "stdout"
        }
      ]
    },
    {
      "cell_type": "markdown",
      "metadata": {
        "id": "J_oSZAvG7kmo"
      },
      "source": [
        "melihat informasi dataset untuk melakukan A/B Testing"
      ]
    },
    {
      "cell_type": "code",
      "metadata": {
        "colab": {
          "base_uri": "https://localhost:8080/"
        },
        "id": "zZZ2AAfqzWMx",
        "outputId": "2cd970d2-cfbf-42ae-e01c-d2b49b2cd3e9"
      },
      "source": [
        "ab_test['group'].value_counts()"
      ],
      "execution_count": 136,
      "outputs": [
        {
          "output_type": "execute_result",
          "data": {
            "text/plain": [
              "treatment    4720\n",
              "control      4720\n",
              "Name: group, dtype: int64"
            ]
          },
          "metadata": {
            "tags": []
          },
          "execution_count": 136
        }
      ]
    },
    {
      "cell_type": "markdown",
      "metadata": {
        "id": "lflFfrWP9DD6"
      },
      "source": [
        "Membagi data group ke dalam dua kategori treatment dan control untuk dilakukan pengujian masing-masing 4720 untuk kategori treatment dan 4720 untuk kategori control"
      ]
    },
    {
      "cell_type": "markdown",
      "metadata": {
        "id": "7W2PPQnq1AwU"
      },
      "source": [
        "# **MELAKUKAN VISUALISASI DATA TESTING**"
      ]
    },
    {
      "cell_type": "code",
      "metadata": {
        "colab": {
          "base_uri": "https://localhost:8080/",
          "height": 329
        },
        "id": "iruLyp3czrEl",
        "outputId": "d7fbc554-2910-4188-e4bf-e4ba4c47b04b"
      },
      "source": [
        "plt.figure(figsize=(6,4))\n",
        "\n",
        "sns.barplot(x=ab_test['group'], y=ab_test['purchased'], ci=False)\n",
        "\n",
        "plt.ylim(0, 0.17)\n",
        "plt.title('Nilai Konversi group', pad=20)\n",
        "plt.xlabel('Group', labelpad=15)\n",
        "plt.ylabel('Purchased', labelpad=15);"
      ],
      "execution_count": 137,
      "outputs": [
        {
          "output_type": "display_data",
          "data": {
            "image/png": "[encoded data removed]",
            "text/plain": [
              "<Figure size 432x288 with 1 Axes>"
            ]
          },
          "metadata": {
            "tags": []
          }
        }
      ]
    },
    {
      "cell_type": "markdown",
      "metadata": {
        "id": "4jZpFpv90xq7"
      },
      "source": [
        "# **MELAKUKAN HYPOTHESIS TESTING**"
      ]
    },
    {
      "cell_type": "markdown",
      "metadata": {
        "id": "jk7O8b5G1VDi"
      },
      "source": [
        "untuk melakukan hipotesis kali ini ditentukan h0 dan h1 sebagai berikut untuk **h0 merupakan hipotesis bahwa tampilan UI/UX tidak perlu diubah** dan untuk **h1 merupakan hipotesis bahwa tampilan UI/UX perlu diubah**"
      ]
    },
    {
      "cell_type": "code",
      "metadata": {
        "colab": {
          "base_uri": "https://localhost:8080/"
        },
        "id": "YUrzgIxuzhn4",
        "outputId": "20d372cb-398c-4837-faa6-5d92ec1f3144"
      },
      "source": [
        "from statsmodels.stats.proportion import proportions_ztest, proportion_confint\n",
        "control_results = ab_test[ab_test['group'] == 'control']['purchased']\n",
        "treatment_results = ab_test[ab_test['group'] == 'treatment']['purchased']\n",
        "n_con = control_results.count()\n",
        "n_treat = treatment_results.count()\n",
        "successes = [control_results.sum(), treatment_results.sum()]\n",
        "nobs = [n_con, n_treat]\n",
        "\n",
        "z_stat, pval = proportions_ztest(successes, nobs=nobs)\n",
        "(lower_con, lower_treat), (upper_con, upper_treat) = proportion_confint(successes, nobs=nobs, alpha=0.05)\n",
        "\n",
        "print(f'z statistic: {z_stat:.2f}')\n",
        "print(f'p-value: {pval:.3f}')\n",
        "print(f'ci 95% untuk control group: [{lower_con:.3f}, {upper_con:.3f}]')\n",
        "print(f'ci 95% untuk treatment group: [{lower_treat:.3f}, {upper_treat:.3f}]')"
      ],
      "execution_count": 138,
      "outputs": [
        {
          "output_type": "stream",
          "text": [
            "z statistic: -1.17\n",
            "p-value: 0.240\n",
            "ci 95% untuk control group: [0.114, 0.132]\n",
            "ci 95% untuk treatment group: [0.121, 0.141]\n"
          ],
          "name": "stdout"
        }
      ]
    },
    {
      "cell_type": "markdown",
      "metadata": {
        "id": "Z7jmIl1J1Lxq"
      },
      "source": [
        "hasil dari hypothesis testing didapatkan z statistics = -0,99, p-value = 0.321, ci 95% untuk control group = [0.114, 0.132], dan ci 95% untuk treatment group = [0.120, 0.139]"
      ]
    },
    {
      "cell_type": "markdown",
      "metadata": {
        "id": "PcSTIdc42Ewk"
      },
      "source": [
        "# **HASIL KESIMPULAN**"
      ]
    },
    {
      "cell_type": "markdown",
      "metadata": {
        "id": "W_n0pIvv2JGh"
      },
      "source": [
        "Dari hasil hipotesis di atas didapatkan bahwa hasil dari p-value adalah 0.321 yang artinya hasil tersebut di atas treshold yaitu α = 0.05 sehingga kita **tidak bisa menolak hipotesis h0** dimana hipotesis h0 yaitu tampilan UI/UX tidak dilakukan perubahan karena dari hasil hypothesis testing yang dilakukan bahwasannya design baru yang dibuat tidak terlihat perubahan pada design lama sehingga kesimpulan yang dapat diambil adalah **tidak dilakukan perubahan pada design UI/UX**"
      ]
    },
    {
      "cell_type": "markdown",
      "metadata": {
        "id": "qdgh-Rct4_G9"
      },
      "source": [
        "Kemudian pada hasil nilai ci pada treatment terlihat hasil dari **nilai ci 95% untuk treatment group adalah [0.120, 0.139]** yang artinya **memiliki interval 12%-13.9%** yang artinya angka tersebut masih **kurang dari target 0.150 atau 15% untuk dapat mengubah tampilan UI/UX yang baru** sehingga membutuhkan 2% lagi dari design baru tersebut untuk dapat dilakukan perubahan"
      ]
    }
  ]
}